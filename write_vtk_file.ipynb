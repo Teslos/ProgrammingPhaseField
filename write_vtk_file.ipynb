{
 "cells": [
  {
   "cell_type": "code",
   "execution_count": null,
   "metadata": {},
   "outputs": [],
   "source": [
    "function write_vtk_grid_values(nx::Int64, ny::Int64, dx::Float64, dy::Float64, istep::Int64, data1::Array{Float64,2})\n",
    "    # open output file\n",
    "    fname = \"time_$(istep).vtk\"\n",
    "    \n",
    "    out = open(fname, \"w\")\n",
    "    nz=1\n",
    "    \n",
    "    npoin = nx * ny * nz\n",
    "    #start writing the ASCII VTK file\n",
    "    \n",
    "    # header of VTK file\n",
    "    println(out, \"# vtk DataFile Version 2.0\")\n",
    "    println(out, \"time_10.vtk\")\n",
    "    println(out, \"ASCII\")\n",
    "    println(out, \"DATASET STRUCTURED_GRID\")\n",
    "    \n",
    "    # coords of grid points\n",
    "    println(out, \"DIMENSIONS $(nx) $(ny) $(nz)\")\n",
    "    \n",
    "    println(out, \"POINTS $(npoin) float\")\n",
    "    \n",
    "    for i = 1:nx\n",
    "        for j = 1:ny\n",
    "            x = (i-1)*dx\n",
    "            y = (j-1)*dy\n",
    "            \n",
    "            z = 0.0\n",
    "            \n",
    "            println(out, \"$(x) $(y) $(z)\")\n",
    "        end\n",
    "    end\n",
    "    # write grid point values\n",
    "    println(out, \"POINT_DATA $(npoin)\")\n",
    "    println(out, \"SCALARS CON float 1\")\n",
    "    println(out, \"LOOKUP_TABLE default\")\n",
    "    \n",
    "    for i=1:nx\n",
    "        for j=1:ny\n",
    "            ii =(i-1)*nx +j\n",
    "            println(out, data1[i,j])\n",
    "        end\n",
    "    end\n",
    "    \n",
    "    close(out)\n",
    "end"
   ]
  },
  {
   "cell_type": "code",
   "execution_count": null,
   "metadata": {},
   "outputs": [],
   "source": []
  }
 ],
 "metadata": {
  "kernelspec": {
   "display_name": "Julia 1.5.3",
   "language": "julia",
   "name": "julia-1.5"
  },
  "language_info": {
   "file_extension": ".jl",
   "mimetype": "application/julia",
   "name": "julia",
   "version": "1.5.3"
  }
 },
 "nbformat": 4,
 "nbformat_minor": 2
}
