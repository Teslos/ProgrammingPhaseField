{
 "cells": [
  {
   "cell_type": "code",
   "execution_count": 1,
   "metadata": {},
   "outputs": [
    {
     "data": {
      "text/plain": [
       "0.03"
      ]
     },
     "execution_count": 1,
     "metadata": {},
     "output_type": "execute_result"
    }
   ],
   "source": [
    "Nx = 300\n",
    "Ny = 300\n",
    "NxNy = Nx * Ny\n",
    "\n",
    "dx = 0.03\n",
    "dy = 0.03"
   ]
  },
  {
   "cell_type": "markdown",
   "metadata": {},
   "source": [
    "Time integration parameters"
   ]
  },
  {
   "cell_type": "code",
   "execution_count": 2,
   "metadata": {},
   "outputs": [],
   "source": [
    "nstep = 4000\n",
    "nprint = 50;"
   ]
  },
  {
   "cell_type": "code",
   "execution_count": 3,
   "metadata": {},
   "outputs": [
    {
     "data": {
      "text/plain": [
       "0.0001"
      ]
     },
     "execution_count": 3,
     "metadata": {},
     "output_type": "execute_result"
    }
   ],
   "source": [
    "dtime = 1.e-4"
   ]
  },
  {
   "cell_type": "markdown",
   "metadata": {},
   "source": [
    "Material specific parameters\n"
   ]
  },
  {
   "cell_type": "code",
   "execution_count": 20,
   "metadata": {},
   "outputs": [
    {
     "data": {
      "text/plain": [
       "3.141592653589793"
      ]
     },
     "execution_count": 20,
     "metadata": {},
     "output_type": "execute_result"
    }
   ],
   "source": [
    "tau = 0.0003\n",
    "epsilonb = 0.01\n",
    "mu = 1.0\n",
    "kappa = 1.8\n",
    "delta = 0.02\n",
    "aniso = 4.0\n",
    "alpha = 0.9\n",
    "gamma = 10.0\n",
    "teq = 1.0\n",
    "theta0 = 0.2\n",
    "seed = 5.0\n",
    "\n",
    "pix = 4.0 * atan(1.0)"
   ]
  },
  {
   "cell_type": "code",
   "execution_count": 10,
   "metadata": {},
   "outputs": [
    {
     "data": {
      "text/plain": [
       "nucleus (generic function with 1 method)"
      ]
     },
     "execution_count": 10,
     "metadata": {},
     "output_type": "execute_result"
    }
   ],
   "source": [
    "function nucleus(Nx, Ny, seed)\n",
    "    phi = zeros(Nx,Ny)\n",
    "    tempr = zeros(Nx,Ny)\n",
    "\n",
    "    for i = 1 : Nx\n",
    "        for j = 1 : Ny\n",
    "        if ((i-Nx/2)*(i-Nx/2) + (j - Ny/2)*(j-Ny/2) < seed)\n",
    "            phi[i,j] = 1.0\n",
    "        end\n",
    "        end\n",
    "    end\n",
    "    return phi, tempr\n",
    "end"
   ]
  },
  {
   "cell_type": "markdown",
   "metadata": {},
   "source": [
    "Initialize and introduce the initial nuclei:"
   ]
  },
  {
   "cell_type": "code",
   "execution_count": 11,
   "metadata": {},
   "outputs": [
    {
     "data": {
      "text/plain": [
       "([0.0 0.0 … 0.0 0.0; 0.0 0.0 … 0.0 0.0; … ; 0.0 0.0 … 0.0 0.0; 0.0 0.0 … 0.0 0.0], [0.0 0.0 … 0.0 0.0; 0.0 0.0 … 0.0 0.0; … ; 0.0 0.0 … 0.0 0.0; 0.0 0.0 … 0.0 0.0])"
      ]
     },
     "execution_count": 11,
     "metadata": {},
     "output_type": "execute_result"
    }
   ],
   "source": [
    "phi, tempr = nucleus(Nx,Ny, seed)"
   ]
  },
  {
   "cell_type": "code",
   "execution_count": 22,
   "metadata": {},
   "outputs": [
    {
     "name": "stdout",
     "output_type": "stream",
     "text": [
      "done step    50\n",
      "done step   100\n",
      "done step   150\n",
      "done step   200\n",
      "done step   250\n",
      "done step   300\n",
      "done step   350\n",
      "done step   400\n",
      "done step   450\n",
      "done step   500\n",
      "done step   550\n",
      "done step   600\n",
      "done step   650\n",
      "done step   700\n",
      "done step   750\n",
      "done step   800\n",
      "done step   850\n",
      "done step   900\n",
      "done step   950\n",
      "done step  1000\n",
      "done step  1050\n",
      "done step  1100\n",
      "done step  1150\n",
      "done step  1200\n",
      "done step  1250\n",
      "done step  1300\n",
      "done step  1350\n",
      "done step  1400\n",
      "done step  1450\n",
      "done step  1500\n",
      "done step  1550\n",
      "done step  1600\n",
      "done step  1650\n",
      "done step  1700\n",
      "done step  1750\n",
      "done step  1800\n",
      "done step  1850\n",
      "done step  1900\n",
      "done step  1950\n",
      "done step  2000\n",
      "done step  2050\n",
      "done step  2100\n",
      "done step  2150\n",
      "done step  2200\n",
      "done step  2250\n",
      "done step  2300\n",
      "done step  2350\n",
      "done step  2400\n",
      "done step  2450\n",
      "done step  2500\n",
      "done step  2550\n",
      "done step  2600\n",
      "done step  2650\n",
      "done step  2700\n",
      "done step  2750\n",
      "done step  2800\n",
      "done step  2850\n",
      "done step  2900\n",
      "done step  2950\n",
      "done step  3000\n",
      "done step  3050\n",
      "done step  3100\n",
      "done step  3150\n",
      "done step  3200\n",
      "done step  3250\n",
      "done step  3300\n",
      "done step  3350\n",
      "done step  3400\n",
      "done step  3450\n",
      "done step  3500\n",
      "done step  3550\n",
      "done step  3600\n",
      "done step  3650\n",
      "done step  3700\n",
      "done step  3750\n",
      "done step  3800\n",
      "done step  3850\n",
      "done step  3900\n",
      "done step  3950\n",
      "done step  4000\n"
     ]
    }
   ],
   "source": [
    "using NBInclude\n",
    "@nbinclude(\"write_vtk_file.ipynb\")\n",
    "using Printf\n",
    "lap_phi = zeros(Nx,Ny)\n",
    "lap_tempr = zeros(Nx,Ny)\n",
    "phidx = zeros(Nx,Ny)\n",
    "phidy = zeros(Nx,Ny)\n",
    "epsilon = zeros(Nx,Ny)\n",
    "epsilon_deriv = zeros(Nx,Ny)\n",
    "for istep = 1:nstep\n",
    "    for i = 1 : Nx\n",
    "        for j = 1 : Ny\n",
    "            \n",
    "            jp = j + 1\n",
    "            jm = j - 1\n",
    "            ip = i + 1\n",
    "            im = i - 1\n",
    "            \n",
    "            if (im == 0)\n",
    "                im = Nx\n",
    "            end\n",
    "            if (ip == (Nx + 1))\n",
    "                ip = 1\n",
    "            end\n",
    "            \n",
    "            if (jp == (Ny + 1))\n",
    "                jp = 1\n",
    "            end\n",
    "            if (jm == 0)\n",
    "                jm = Ny\n",
    "            end\n",
    "            \n",
    "            hne = phi[ip,j]\n",
    "            hnw = phi[im,j]\n",
    "            hns = phi[i,jm]\n",
    "            hnn = phi[i,jp]\n",
    "            hnc = phi[i,j]\n",
    "            \n",
    "            lap_phi[i,j] = (hnw + hne + hns + hnn -4.0*hnc)/(dx*dx)\n",
    "            \n",
    "            hne = tempr[ip,j]\n",
    "            hnw = tempr[im,j]\n",
    "            hns = tempr[i,jm]\n",
    "            hnn = tempr[i,jp]\n",
    "            hnc = tempr[i,j]\n",
    "            \n",
    "            lap_tempr[i,j] = (hnw + hne + hns + hnn -4.0*hnc)/(dx*dx)\n",
    "            \n",
    "            phidx[i,j] = (phi[ip,j]-phi[im,j])/dx\n",
    "            phidy[i,j] = (phi[i,jp]-phi[i,jm])/dy\n",
    "            \n",
    "            # calculate angle\n",
    "            theta = atan(phidy[i,j], phidx[i,j])\n",
    "            \n",
    "            # epsilon and its derivative:\n",
    "            epsilon_deriv[i,j] = -epsilonb * aniso * delta * sin(aniso*(theta-theta0))\n",
    "            epsilon[i,j] = -epsilonb * (1.0 + delta*cos(aniso*(theta-theta0)))\n",
    "        end\n",
    "    end\n",
    "    \n",
    "    \n",
    "    for i = 1 : Nx\n",
    "        for j = 1 : Ny\n",
    "            jp = j + 1\n",
    "            jm = j - 1\n",
    "            \n",
    "            ip = i + 1\n",
    "            im = i - 1\n",
    "            \n",
    "            if (im == 0)\n",
    "                im = Nx\n",
    "            end\n",
    "            if (ip == Nx + 1)\n",
    "                ip = 1\n",
    "            end\n",
    "            if (jm == 0)\n",
    "                jm = Ny\n",
    "            end\n",
    "            if (jp == Ny + 1)\n",
    "                jp = 1\n",
    "            end\n",
    "            \n",
    "            phiold = phi[i,j]\n",
    "            \n",
    "            # first term\n",
    "            term1 = (epsilon[i,jp] * epsilon_deriv[i,jp] * phidx[i,jp] - epsilon[i,jm] * epsilon_deriv[i,jm]*phidx[i,jm])/dy\n",
    "            # second term\n",
    "            term2 = -(epsilon[ip,j] * epsilon_deriv[ip,j]*phidy[ip,j] - epsilon[im,j] * epsilon_deriv[im,j]*phidy[im,j])/dy\n",
    "            \n",
    "            # factor m\n",
    "            m = alpha/pi*atan(gamma*(teq-tempr[i,j]))\n",
    "            \n",
    "            # time integration\n",
    "            phi[i,j] = phi[i,j]+(dtime/tau)*(term1 + term2 + epsilon[i,j]^2 * lap_phi[i,j] + \n",
    "                       phiold*(1.0-phiold)*(phiold-0.5+m))\n",
    "            \n",
    "            # evolve temperature\n",
    "            tempr[i,j] = tempr[i,j] + dtime *lap_tempr[i,j] + kappa*(phi[i,j]-phiold)\n",
    "        end\n",
    "    end\n",
    "    \n",
    "    if (istep % nprint == 0)\n",
    "        @printf(\"done step %5d\\n\",istep)\n",
    "        # write vtk file\n",
    "        write_vtk_grid_values(Nx,Ny,dx,dy,istep,phi);\n",
    "    end  \n",
    "end\n",
    "            \n",
    "            \n",
    "            "
   ]
  },
  {
   "cell_type": "code",
   "execution_count": null,
   "metadata": {},
   "outputs": [],
   "source": []
  }
 ],
 "metadata": {
  "kernelspec": {
   "display_name": "Julia 1.5.3",
   "language": "julia",
   "name": "julia-1.5"
  },
  "language_info": {
   "file_extension": ".jl",
   "mimetype": "application/julia",
   "name": "julia",
   "version": "1.5.3"
  }
 },
 "nbformat": 4,
 "nbformat_minor": 2
}
