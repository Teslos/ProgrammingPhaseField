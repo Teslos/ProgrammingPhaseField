{
 "cells": [
  {
   "cell_type": "code",
   "execution_count": 1,
   "metadata": {},
   "outputs": [
    {
     "output_type": "execute_result",
     "data": {
      "text/plain": [
       "0.03"
      ]
     },
     "metadata": {},
     "execution_count": 1
    }
   ],
   "source": [
    "Nx = 300\n",
    "Ny = 300\n",
    "NxNy = Nx * Ny\n",
    "\n",
    "dx = 0.03\n",
    "dy = 0.03"
   ]
  },
  {
   "cell_type": "markdown",
   "metadata": {},
   "source": [
    "Time integration parameters"
   ]
  },
  {
   "cell_type": "code",
   "execution_count": 2,
   "metadata": {},
   "outputs": [],
   "source": [
    "nstep = 4000\n",
    "nprint = 50;"
   ]
  },
  {
   "cell_type": "code",
   "execution_count": 3,
   "metadata": {},
   "outputs": [
    {
     "output_type": "execute_result",
     "data": {
      "text/plain": [
       "0.0001"
      ]
     },
     "metadata": {},
     "execution_count": 3
    }
   ],
   "source": [
    "dtime = 1.e-4"
   ]
  },
  {
   "cell_type": "markdown",
   "metadata": {},
   "source": [
    "Material specific parameters\n"
   ]
  },
  {
   "cell_type": "code",
   "execution_count": 4,
   "metadata": {},
   "outputs": [
    {
     "output_type": "execute_result",
     "data": {
      "text/plain": [
       "3.141592653589793"
      ]
     },
     "metadata": {},
     "execution_count": 4
    }
   ],
   "source": [
    "tau = 0.0003\n",
    "epsilonb = 0.01\n",
    "kappa = 1.8\n",
    "delta = 0.02\n",
    "aniso = 4.0\n",
    "alpha = 0.9\n",
    "teq = 1.0\n",
    "theta0 = 0.2\n",
    "seed = 5.0\n",
    "\n",
    "pix = 4.0 * atan(1.0)"
   ]
  },
  {
   "cell_type": "markdown",
   "metadata": {},
   "source": [
    "Initialize and introduce the initial nuclei:"
   ]
  },
  {
   "cell_type": "code",
   "execution_count": null,
   "metadata": {},
   "outputs": [],
   "source": [
    "phi, tempr = nucleus(Nx,Ny, seed)"
   ]
  },
  {
   "cell_type": "code",
   "execution_count": null,
   "metadata": {},
   "outputs": [],
   "source": [
    "for istep = 1:nstep\n",
    "    for i = 1 : Nx\n",
    "        for j = 1 : Ny\n",
    "            \n",
    "            jp = j + 1\n",
    "            jm = j - 1\n",
    "            ip = i + 1\n",
    "            im = i - 1\n",
    "            \n",
    "            if (im == 0)\n",
    "                im = Nx\n",
    "            end\n",
    "            if (ip == (Nx + 1))\n",
    "                ip = 1\n",
    "            end\n",
    "            \n",
    "            if (jp == (Ny + 1))\n",
    "                jp = 1\n",
    "            end\n",
    "            if (jm == 0)\n",
    "                jm = Ny\n",
    "            end\n",
    "            \n",
    "            hne = phi(ip,j)\n",
    "            hnw = phi(im,j)\n",
    "            hns = phi(i,jm)\n",
    "            hnn = phi(i,jp)\n",
    "            hnc = phi(i,j)\n",
    "            \n",
    "            lap_phi(i,j) = (hnw + hne + hns + hnn -4.0*hnc)/(dx*dx)\n",
    "            \n",
    "            hne = tempr(ip,j)\n",
    "            hnw = tempr(im,j)\n",
    "            hns = tempr(i,jm)\n",
    "            hnn = tempr(i,jp)\n",
    "            hnc = tempr(i,j)\n",
    "            \n",
    "            lap_tempr(i,j) = (hnw + hne + hns + hnn -4.0*hnc)/(dx*dx)\n",
    "            \n",
    "            phidx(i,j) = (phi(ip,j)-phi(im,j))/dx\n",
    "            phidy(i,j) = (phi(i,jp)-phi(i,jm))/dy\n",
    "            \n",
    "            # calculate angle\n",
    "            theta = atan2(phidy(i,j), phidx(i,j))\n",
    "            \n",
    "            # epsilon and its derivative:\n",
    "            epsilon[i,j] = -epsilonb * aniso * delta * sin(aniso*(theta-theta0))\n",
    "            \n",
    "        end\n",
    "    end\n",
    "    \n",
    "    \n",
    "    for i = 1 : Nx\n",
    "        for j = 1 : Ny\n",
    "            jp = j + 1\n",
    "            jm = j - 1\n",
    "            \n",
    "            ip = i + 1\n",
    "            im = i - 1\n",
    "            \n",
    "            if (im == 0)\n",
    "                im = Nx\n",
    "            end\n",
    "            if (ip == Nx + 1)\n",
    "                ip = 1\n",
    "            end\n",
    "            if (jm == 0)\n",
    "                jm = Ny\n",
    "            end\n",
    "            if (jp == Ny + 1)\n",
    "                jp = 1\n",
    "            end\n",
    "            \n",
    "            phiold = phi[i,j]\n",
    "            \n",
    "            # first term\n",
    "            term1 = (epsilon[i,jp] * epsilon_deriv[i,jp] * phidx[i,jp] - epsilon[i,jm] * epsilon_deriv[i,jm]*phidx[i,jm])/dy\n",
    "            # second term\n",
    "            term2 = -(epsilon[ip,j] * epsilon_deriv[ip,j]*phidy[ip,j] - epsilon[im,j] * epsilon_deriv[im,j]*phidy[im,j])/dy\n",
    "            \n",
    "            # factor m\n",
    "            m = alpha/pi*atan(gamma*(teq-tempr[i,j]))\n",
    "            \n",
    "            # time integration\n",
    "            phi[i,j] = phi[i,j]+(dtime/tau)*(term1 + term2 + epsilon[i,j]^2 * lap_phi[i,j] + \n",
    "                       phiold*(1.0-phiold)*(phiold-0.5+m))\n",
    "            \n",
    "            # evolve temperature\n",
    "            tempr[i,j] = tempr[i,j] + dtime *lap_tempr[i,j] + kappa*(phi[i,j]-phiold)\n",
    "        end\n",
    "    end\n",
    "    \n",
    "    if (istep % nprint == 0)\n",
    "        @printf(\"done step %5d\\n\",istep)\n",
    "        # write vtk file\n",
    "        write_vtk_grid_values(Nx,Ny,dx,dy,istep,phi,tempr);\n",
    "    end  \n",
    "end\n",
    "            \n",
    "            \n",
    "            "
   ]
  }
 ],
 "metadata": {
  "kernelspec": {
   "display_name": "Julia 1.5.3",
   "language": "julia",
   "name": "julia-1.5"
  },
  "language_info": {
   "file_extension": ".jl",
   "mimetype": "application/julia",
   "name": "julia",
   "version": "1.5.3"
  }
 },
 "nbformat": 4,
 "nbformat_minor": 2
}